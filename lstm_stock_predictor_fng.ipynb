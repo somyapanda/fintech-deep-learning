{
 "cells": [
  {
   "cell_type": "markdown",
   "metadata": {
    "id": "K72eKLTNBrjb"
   },
   "source": [
    "# LSTM Stock Predictor Using Fear and Greed Index\n",
    "\n",
    "In this notebook, we will build and train a custom LSTM RNN that uses a 10 day window of Bitcoin fear and greed index values to predict the 11th day closing price. \n",
    "\n",
    "We will need to:\n",
    "\n",
    "1. Prepare the data for training and testing\n",
    "2. Build and train a custom LSTM RNN\n",
    "3. Evaluate the performance of the model"
   ]
  },
  {
   "cell_type": "markdown",
   "metadata": {
    "id": "AzEKcNB_Brjc"
   },
   "source": [
    "## Data Preparation\n",
    "\n",
    "In this section, we will need to prepare the training and testing data for the model. The model will use a rolling 10 day window to predict the 11th day closing price.\n",
    "\n",
    "We will need to:\n",
    "1. Use the `window_data` function to generate the X and y values for the model.\n",
    "2. Split the data into 70% training and 30% testing\n",
    "3. Apply the MinMaxScaler to the X and y values\n",
    "4. Reshape the X_train and X_test data for the model. Note: The required input format for the LSTM is:\n",
    "\n",
    "```python\n",
    "reshape((X_train.shape[0], X_train.shape[1], 1))\n",
    "```"
   ]
  },
  {
   "cell_type": "code",
   "execution_count": 1,
   "metadata": {
    "executionInfo": {
     "elapsed": 677,
     "status": "ok",
     "timestamp": 1621896432886,
     "user": {
      "displayName": "somya panda",
      "photoUrl": "https://lh3.googleusercontent.com/a-/AOh14GgPG3HPtIinE4WxzphAj532IXowQAFLSEzeDJd-Yw=s64",
      "userId": "15898368594235905975"
     },
     "user_tz": 420
    },
    "id": "qKPs7F4sBrjd"
   },
   "outputs": [],
   "source": [
    "import numpy as np\n",
    "import pandas as pd"
   ]
  },
  {
   "cell_type": "code",
   "execution_count": 2,
   "metadata": {
    "executionInfo": {
     "elapsed": 1504,
     "status": "ok",
     "timestamp": 1621896434383,
     "user": {
      "displayName": "somya panda",
      "photoUrl": "https://lh3.googleusercontent.com/a-/AOh14GgPG3HPtIinE4WxzphAj532IXowQAFLSEzeDJd-Yw=s64",
      "userId": "15898368594235905975"
     },
     "user_tz": 420
    },
    "id": "Z5mTwtR6Brje"
   },
   "outputs": [],
   "source": [
    "# Set the random seed for reproducibility\n",
    "# Note: This is for the homework solution, but it is good practice to comment this out and run multiple experiments to evaluate your model\n",
    "from numpy.random import seed\n",
    "seed(1)\n",
    "from tensorflow import random\n",
    "random.set_seed(2)"
   ]
  },
  {
   "cell_type": "code",
   "execution_count": 3,
   "metadata": {
    "colab": {
     "base_uri": "https://localhost:8080/",
     "height": 235
    },
    "executionInfo": {
     "elapsed": 13,
     "status": "ok",
     "timestamp": 1621896434387,
     "user": {
      "displayName": "somya panda",
      "photoUrl": "https://lh3.googleusercontent.com/a-/AOh14GgPG3HPtIinE4WxzphAj532IXowQAFLSEzeDJd-Yw=s64",
      "userId": "15898368594235905975"
     },
     "user_tz": 420
    },
    "id": "28W0J858Brje",
    "outputId": "378082e6-ba67-4231-dc8a-b910467545e8"
   },
   "outputs": [
    {
     "data": {
      "text/html": [
       "<div>\n",
       "<style scoped>\n",
       "    .dataframe tbody tr th:only-of-type {\n",
       "        vertical-align: middle;\n",
       "    }\n",
       "\n",
       "    .dataframe tbody tr th {\n",
       "        vertical-align: top;\n",
       "    }\n",
       "\n",
       "    .dataframe thead th {\n",
       "        text-align: right;\n",
       "    }\n",
       "</style>\n",
       "<table border=\"1\" class=\"dataframe\">\n",
       "  <thead>\n",
       "    <tr style=\"text-align: right;\">\n",
       "      <th></th>\n",
       "      <th>fng_value</th>\n",
       "    </tr>\n",
       "    <tr>\n",
       "      <th>date</th>\n",
       "      <th></th>\n",
       "    </tr>\n",
       "  </thead>\n",
       "  <tbody>\n",
       "    <tr>\n",
       "      <th>2019-07-29</th>\n",
       "      <td>19</td>\n",
       "    </tr>\n",
       "    <tr>\n",
       "      <th>2019-07-28</th>\n",
       "      <td>16</td>\n",
       "    </tr>\n",
       "    <tr>\n",
       "      <th>2019-07-27</th>\n",
       "      <td>47</td>\n",
       "    </tr>\n",
       "    <tr>\n",
       "      <th>2019-07-26</th>\n",
       "      <td>24</td>\n",
       "    </tr>\n",
       "    <tr>\n",
       "      <th>2019-07-25</th>\n",
       "      <td>42</td>\n",
       "    </tr>\n",
       "  </tbody>\n",
       "</table>\n",
       "</div>"
      ],
      "text/plain": [
       "             fng_value\n",
       "date                  \n",
       "2019-07-29          19\n",
       "2019-07-28          16\n",
       "2019-07-27          47\n",
       "2019-07-26          24\n",
       "2019-07-25          42"
      ]
     },
     "execution_count": 3,
     "metadata": {
      "tags": []
     },
     "output_type": "execute_result"
    }
   ],
   "source": [
    "# Load the fear and greed sentiment data for Bitcoin\n",
    "df = pd.read_csv('btc_sentiment.csv', index_col=\"date\", infer_datetime_format=True, parse_dates=True)\n",
    "df = df.drop(columns=\"fng_classification\")\n",
    "df.head()"
   ]
  },
  {
   "cell_type": "code",
   "execution_count": 4,
   "metadata": {
    "colab": {
     "base_uri": "https://localhost:8080/"
    },
    "executionInfo": {
     "elapsed": 9,
     "status": "ok",
     "timestamp": 1621896434387,
     "user": {
      "displayName": "somya panda",
      "photoUrl": "https://lh3.googleusercontent.com/a-/AOh14GgPG3HPtIinE4WxzphAj532IXowQAFLSEzeDJd-Yw=s64",
      "userId": "15898368594235905975"
     },
     "user_tz": 420
    },
    "id": "IdF9LI2JBrje",
    "outputId": "6ba41dfb-1efe-469d-abd5-972bfacca6db"
   },
   "outputs": [
    {
     "data": {
      "text/plain": [
       "Date\n",
       "2019-07-25    9882.429688\n",
       "2019-07-26    9847.450195\n",
       "2019-07-27    9478.320313\n",
       "2019-07-28    9531.769531\n",
       "2019-07-29    9529.889648\n",
       "Name: Close, dtype: float64"
      ]
     },
     "execution_count": 4,
     "metadata": {
      "tags": []
     },
     "output_type": "execute_result"
    }
   ],
   "source": [
    "# Load the historical closing prices for Bitcoin\n",
    "df2 = pd.read_csv('btc_historic.csv', index_col=\"Date\", infer_datetime_format=True, parse_dates=True)['Close']\n",
    "df2 = df2.sort_index()\n",
    "df2.tail()"
   ]
  },
  {
   "cell_type": "code",
   "execution_count": 5,
   "metadata": {
    "colab": {
     "base_uri": "https://localhost:8080/",
     "height": 204
    },
    "executionInfo": {
     "elapsed": 7,
     "status": "ok",
     "timestamp": 1621896434387,
     "user": {
      "displayName": "somya panda",
      "photoUrl": "https://lh3.googleusercontent.com/a-/AOh14GgPG3HPtIinE4WxzphAj532IXowQAFLSEzeDJd-Yw=s64",
      "userId": "15898368594235905975"
     },
     "user_tz": 420
    },
    "id": "LhjF6BknBrjf",
    "outputId": "9e4880b4-a1d8-41ad-f420-116ef040af76"
   },
   "outputs": [
    {
     "data": {
      "text/html": [
       "<div>\n",
       "<style scoped>\n",
       "    .dataframe tbody tr th:only-of-type {\n",
       "        vertical-align: middle;\n",
       "    }\n",
       "\n",
       "    .dataframe tbody tr th {\n",
       "        vertical-align: top;\n",
       "    }\n",
       "\n",
       "    .dataframe thead th {\n",
       "        text-align: right;\n",
       "    }\n",
       "</style>\n",
       "<table border=\"1\" class=\"dataframe\">\n",
       "  <thead>\n",
       "    <tr style=\"text-align: right;\">\n",
       "      <th></th>\n",
       "      <th>fng_value</th>\n",
       "      <th>Close</th>\n",
       "    </tr>\n",
       "  </thead>\n",
       "  <tbody>\n",
       "    <tr>\n",
       "      <th>2019-07-25</th>\n",
       "      <td>42</td>\n",
       "      <td>9882.429688</td>\n",
       "    </tr>\n",
       "    <tr>\n",
       "      <th>2019-07-26</th>\n",
       "      <td>24</td>\n",
       "      <td>9847.450195</td>\n",
       "    </tr>\n",
       "    <tr>\n",
       "      <th>2019-07-27</th>\n",
       "      <td>47</td>\n",
       "      <td>9478.320313</td>\n",
       "    </tr>\n",
       "    <tr>\n",
       "      <th>2019-07-28</th>\n",
       "      <td>16</td>\n",
       "      <td>9531.769531</td>\n",
       "    </tr>\n",
       "    <tr>\n",
       "      <th>2019-07-29</th>\n",
       "      <td>19</td>\n",
       "      <td>9529.889648</td>\n",
       "    </tr>\n",
       "  </tbody>\n",
       "</table>\n",
       "</div>"
      ],
      "text/plain": [
       "             fng_value        Close\n",
       "2019-07-25          42  9882.429688\n",
       "2019-07-26          24  9847.450195\n",
       "2019-07-27          47  9478.320313\n",
       "2019-07-28          16  9531.769531\n",
       "2019-07-29          19  9529.889648"
      ]
     },
     "execution_count": 5,
     "metadata": {
      "tags": []
     },
     "output_type": "execute_result"
    }
   ],
   "source": [
    "# Join the data into a single DataFrame\n",
    "df = df.join(df2, how=\"inner\")\n",
    "df.tail()"
   ]
  },
  {
   "cell_type": "code",
   "execution_count": 6,
   "metadata": {
    "colab": {
     "base_uri": "https://localhost:8080/",
     "height": 204
    },
    "executionInfo": {
     "elapsed": 7,
     "status": "ok",
     "timestamp": 1621896434388,
     "user": {
      "displayName": "somya panda",
      "photoUrl": "https://lh3.googleusercontent.com/a-/AOh14GgPG3HPtIinE4WxzphAj532IXowQAFLSEzeDJd-Yw=s64",
      "userId": "15898368594235905975"
     },
     "user_tz": 420
    },
    "id": "j4f50xP6Brjf",
    "outputId": "2092dae1-1c1f-48ca-c866-a060d36514a0"
   },
   "outputs": [
    {
     "data": {
      "text/html": [
       "<div>\n",
       "<style scoped>\n",
       "    .dataframe tbody tr th:only-of-type {\n",
       "        vertical-align: middle;\n",
       "    }\n",
       "\n",
       "    .dataframe tbody tr th {\n",
       "        vertical-align: top;\n",
       "    }\n",
       "\n",
       "    .dataframe thead th {\n",
       "        text-align: right;\n",
       "    }\n",
       "</style>\n",
       "<table border=\"1\" class=\"dataframe\">\n",
       "  <thead>\n",
       "    <tr style=\"text-align: right;\">\n",
       "      <th></th>\n",
       "      <th>fng_value</th>\n",
       "      <th>Close</th>\n",
       "    </tr>\n",
       "  </thead>\n",
       "  <tbody>\n",
       "    <tr>\n",
       "      <th>2018-02-01</th>\n",
       "      <td>30</td>\n",
       "      <td>9114.719727</td>\n",
       "    </tr>\n",
       "    <tr>\n",
       "      <th>2018-02-02</th>\n",
       "      <td>15</td>\n",
       "      <td>8870.820313</td>\n",
       "    </tr>\n",
       "    <tr>\n",
       "      <th>2018-02-03</th>\n",
       "      <td>40</td>\n",
       "      <td>9251.269531</td>\n",
       "    </tr>\n",
       "    <tr>\n",
       "      <th>2018-02-04</th>\n",
       "      <td>24</td>\n",
       "      <td>8218.049805</td>\n",
       "    </tr>\n",
       "    <tr>\n",
       "      <th>2018-02-05</th>\n",
       "      <td>11</td>\n",
       "      <td>6937.080078</td>\n",
       "    </tr>\n",
       "  </tbody>\n",
       "</table>\n",
       "</div>"
      ],
      "text/plain": [
       "             fng_value        Close\n",
       "2018-02-01          30  9114.719727\n",
       "2018-02-02          15  8870.820313\n",
       "2018-02-03          40  9251.269531\n",
       "2018-02-04          24  8218.049805\n",
       "2018-02-05          11  6937.080078"
      ]
     },
     "execution_count": 6,
     "metadata": {
      "tags": []
     },
     "output_type": "execute_result"
    }
   ],
   "source": [
    "df.head()"
   ]
  },
  {
   "cell_type": "code",
   "execution_count": 7,
   "metadata": {
    "executionInfo": {
     "elapsed": 6,
     "status": "ok",
     "timestamp": 1621896434388,
     "user": {
      "displayName": "somya panda",
      "photoUrl": "https://lh3.googleusercontent.com/a-/AOh14GgPG3HPtIinE4WxzphAj532IXowQAFLSEzeDJd-Yw=s64",
      "userId": "15898368594235905975"
     },
     "user_tz": 420
    },
    "id": "mJR4V-IQBrjf"
   },
   "outputs": [],
   "source": [
    "# This function accepts the column number for the features (X) and the target (y)\n",
    "# It chunks the data up with a rolling window of Xt-n to predict Xt\n",
    "# It returns a numpy array of X any y\n",
    "def window_data(df, window, feature_col_number, target_col_number):\n",
    "    X = []\n",
    "    y = []\n",
    "    for i in range(len(df) - window - 1):\n",
    "        features = df.iloc[i:(i + window), feature_col_number]\n",
    "        target = df.iloc[(i + window), target_col_number]\n",
    "        X.append(features)\n",
    "        y.append(target)\n",
    "    return np.array(X), np.array(y).reshape(-1, 1)"
   ]
  },
  {
   "cell_type": "code",
   "execution_count": 8,
   "metadata": {
    "colab": {
     "base_uri": "https://localhost:8080/"
    },
    "executionInfo": {
     "elapsed": 467,
     "status": "ok",
     "timestamp": 1621896434849,
     "user": {
      "displayName": "somya panda",
      "photoUrl": "https://lh3.googleusercontent.com/a-/AOh14GgPG3HPtIinE4WxzphAj532IXowQAFLSEzeDJd-Yw=s64",
      "userId": "15898368594235905975"
     },
     "user_tz": 420
    },
    "id": "HZoJhs1-Brjf",
    "outputId": "ccd28970-849f-4ee2-df05-12a25d538e6e"
   },
   "outputs": [
    {
     "name": "stdout",
     "output_type": "stream",
     "text": [
      "X sample values:\n",
      "[[30]\n",
      " [15]\n",
      " [40]\n",
      " [24]\n",
      " [11]\n",
      " [ 8]\n",
      " [36]\n",
      " [30]\n",
      " [44]\n",
      " [54]] \n",
      "\n",
      "y sample values:\n",
      "[[8870.820313]\n",
      " [9251.269531]\n",
      " [8218.049805]\n",
      " [6937.080078]\n",
      " [7701.25    ]\n",
      " [7592.720215]\n",
      " [8260.69043 ]\n",
      " [8696.830078]\n",
      " [8569.290039]\n",
      " [8084.609863]]\n"
     ]
    }
   ],
   "source": [
    "# Predict Closing Prices using a 10 day window of previous fng values\n",
    "# Then, experiment with window sizes anywhere from 1 to 10 and see how the model performance changes\n",
    "window_size = 1\n",
    "\n",
    "# Column index 0 is the 'fng_value' column\n",
    "# Column index 1 is the `Close` column\n",
    "feature_column = 0\n",
    "target_column = 1\n",
    "X, y = window_data(df, window_size, feature_column, target_column)\n",
    "print (f\"X sample values:\\n{X[:10]} \\n\")\n",
    "print (f\"y sample values:\\n{y[:10]}\")"
   ]
  },
  {
   "cell_type": "code",
   "execution_count": 9,
   "metadata": {
    "executionInfo": {
     "elapsed": 6,
     "status": "ok",
     "timestamp": 1621896434850,
     "user": {
      "displayName": "somya panda",
      "photoUrl": "https://lh3.googleusercontent.com/a-/AOh14GgPG3HPtIinE4WxzphAj532IXowQAFLSEzeDJd-Yw=s64",
      "userId": "15898368594235905975"
     },
     "user_tz": 420
    },
    "id": "eGOt_KMTBrjg"
   },
   "outputs": [],
   "source": [
    "# Use 70% of the data for training and the remaineder for testing\n",
    "split_data = int(0.7 * len(X))\n",
    "\n",
    "X_train = X[:split_data]\n",
    "X_test = X[split_data:]\n",
    "\n",
    "y_train = y[:split_data]\n",
    "y_test = y[split_data:]"
   ]
  },
  {
   "cell_type": "code",
   "execution_count": 10,
   "metadata": {
    "colab": {
     "base_uri": "https://localhost:8080/"
    },
    "executionInfo": {
     "elapsed": 6,
     "status": "ok",
     "timestamp": 1621896434850,
     "user": {
      "displayName": "somya panda",
      "photoUrl": "https://lh3.googleusercontent.com/a-/AOh14GgPG3HPtIinE4WxzphAj532IXowQAFLSEzeDJd-Yw=s64",
      "userId": "15898368594235905975"
     },
     "user_tz": 420
    },
    "id": "6IrDkcAxHa3y",
    "outputId": "829f677c-55e5-4bf0-a268-235607da8ed8"
   },
   "outputs": [
    {
     "data": {
      "text/plain": [
       "(378, 1)"
      ]
     },
     "execution_count": 10,
     "metadata": {
      "tags": []
     },
     "output_type": "execute_result"
    }
   ],
   "source": [
    "X_train.shape"
   ]
  },
  {
   "cell_type": "code",
   "execution_count": 11,
   "metadata": {
    "colab": {
     "base_uri": "https://localhost:8080/"
    },
    "executionInfo": {
     "elapsed": 4,
     "status": "ok",
     "timestamp": 1621896434850,
     "user": {
      "displayName": "somya panda",
      "photoUrl": "https://lh3.googleusercontent.com/a-/AOh14GgPG3HPtIinE4WxzphAj532IXowQAFLSEzeDJd-Yw=s64",
      "userId": "15898368594235905975"
     },
     "user_tz": 420
    },
    "id": "duXRJgDaIBjx",
    "outputId": "c7bf7690-bd2c-452c-ac8f-be767d9f79e7"
   },
   "outputs": [
    {
     "data": {
      "text/plain": [
       "(378, 1)"
      ]
     },
     "execution_count": 11,
     "metadata": {
      "tags": []
     },
     "output_type": "execute_result"
    }
   ],
   "source": [
    "y_train.shape"
   ]
  },
  {
   "cell_type": "code",
   "execution_count": 12,
   "metadata": {
    "executionInfo": {
     "elapsed": 3,
     "status": "ok",
     "timestamp": 1621896434850,
     "user": {
      "displayName": "somya panda",
      "photoUrl": "https://lh3.googleusercontent.com/a-/AOh14GgPG3HPtIinE4WxzphAj532IXowQAFLSEzeDJd-Yw=s64",
      "userId": "15898368594235905975"
     },
     "user_tz": 420
    },
    "id": "3Jv8EuLoBrjg"
   },
   "outputs": [],
   "source": [
    "from sklearn.preprocessing import MinMaxScaler\n",
    "# Use the MinMaxScaler to scale data between 0 and 1.\n",
    "# Create a MinMaxScaler object\n",
    "scaler = MinMaxScaler()\n",
    "\n",
    "# Fit the MinMaxScaler object with the features data X\n",
    "scaler.fit(X)\n",
    "\n",
    "# Scale the features training and testing sets\n",
    "X_train = scaler.transform(X_train)\n",
    "X_test = scaler.transform(X_test)\n",
    "\n",
    "# Fit the MinMaxScaler object with the features data y\n",
    "scaler.fit(y)\n",
    "\n",
    "# Scale the features training and testing sets\n",
    "y_train = scaler.transform(y_train)\n",
    "y_test = scaler.transform(y_test)"
   ]
  },
  {
   "cell_type": "code",
   "execution_count": 13,
   "metadata": {
    "colab": {
     "base_uri": "https://localhost:8080/"
    },
    "executionInfo": {
     "elapsed": 3,
     "status": "ok",
     "timestamp": 1621896434850,
     "user": {
      "displayName": "somya panda",
      "photoUrl": "https://lh3.googleusercontent.com/a-/AOh14GgPG3HPtIinE4WxzphAj532IXowQAFLSEzeDJd-Yw=s64",
      "userId": "15898368594235905975"
     },
     "user_tz": 420
    },
    "id": "MvNP2hXSBrjg",
    "outputId": "f17a9dbf-c7ea-427b-cf8b-2cd39c1ef99d"
   },
   "outputs": [
    {
     "name": "stdout",
     "output_type": "stream",
     "text": [
      "X_train sample values:\n",
      "[[[0.25287356]]\n",
      "\n",
      " [[0.08045977]]\n",
      "\n",
      " [[0.36781609]]\n",
      "\n",
      " [[0.18390805]]\n",
      "\n",
      " [[0.03448276]]] \n",
      "\n",
      "X_test sample values:\n",
      "[[[0.40229885]]\n",
      "\n",
      " [[0.37931034]]\n",
      "\n",
      " [[0.34482759]]\n",
      "\n",
      " [[0.63218391]]\n",
      "\n",
      " [[0.65517241]]]\n"
     ]
    }
   ],
   "source": [
    "# Reshape the features for the model\n",
    "X_train = X_train.reshape((X_train.shape[0], X_train.shape[1], 1))\n",
    "X_test = X_test.reshape((X_test.shape[0], X_test.shape[1], 1))\n",
    "\n",
    "# Print some sample data after reshaping the datasets\n",
    "print (f\"X_train sample values:\\n{X_train[:5]} \\n\")\n",
    "print (f\"X_test sample values:\\n{X_test[:5]}\")"
   ]
  },
  {
   "cell_type": "markdown",
   "metadata": {
    "id": "ALnKRXPTBrjg"
   },
   "source": [
    "---"
   ]
  },
  {
   "cell_type": "markdown",
   "metadata": {
    "id": "huqsZZ5kBrjg"
   },
   "source": [
    "## Build and Train the LSTM RNN\n",
    "\n",
    "In this section, we will design a custom LSTM RNN and fit (train) it using the training data.\n",
    "\n",
    "We will need to:\n",
    "1. Define the model architecture\n",
    "2. Compile the model\n",
    "3. Fit the model to the training data"
   ]
  },
  {
   "cell_type": "code",
   "execution_count": 14,
   "metadata": {
    "executionInfo": {
     "elapsed": 3,
     "status": "ok",
     "timestamp": 1621896434851,
     "user": {
      "displayName": "somya panda",
      "photoUrl": "https://lh3.googleusercontent.com/a-/AOh14GgPG3HPtIinE4WxzphAj532IXowQAFLSEzeDJd-Yw=s64",
      "userId": "15898368594235905975"
     },
     "user_tz": 420
    },
    "id": "yPfhqYnZBrjg"
   },
   "outputs": [],
   "source": [
    "from tensorflow.keras.models import Sequential\n",
    "from tensorflow.keras.layers import LSTM, Dense, Dropout"
   ]
  },
  {
   "cell_type": "code",
   "execution_count": 15,
   "metadata": {
    "executionInfo": {
     "elapsed": 883,
     "status": "ok",
     "timestamp": 1621896435731,
     "user": {
      "displayName": "somya panda",
      "photoUrl": "https://lh3.googleusercontent.com/a-/AOh14GgPG3HPtIinE4WxzphAj532IXowQAFLSEzeDJd-Yw=s64",
      "userId": "15898368594235905975"
     },
     "user_tz": 420
    },
    "id": "67KVdtUPBrjg"
   },
   "outputs": [],
   "source": [
    "# Build the LSTM model. \n",
    "# The return sequences need to be set to True if you are adding additional LSTM layers, but \n",
    "# You don't have to do this for the final layer. \n",
    "# Note: The dropouts help prevent overfitting\n",
    "# Note: The input shape is the number of time steps and the number of indicators\n",
    "# Note: Batching inputs has a different input shape of Samples/TimeSteps/Features\n",
    "\n",
    "# Define the LSTM RNN model\n",
    "model = Sequential()\n",
    "\n",
    "# Initial model setup\n",
    "number_units = 30\n",
    "dropout_fraction = 0.2\n",
    "\n",
    "# Layer 1\n",
    "model.add(LSTM(\n",
    "    units=number_units,\n",
    "    return_sequences=True,\n",
    "    input_shape=(X_train.shape[1], 1))\n",
    "    )\n",
    "model.add(Dropout(dropout_fraction))\n",
    "\n",
    "# Layer 2\n",
    "model.add(LSTM(\n",
    "    units=number_units, \n",
    "    return_sequences=True)\n",
    "    )\n",
    "model.add(Dropout(dropout_fraction))\n",
    "\n",
    "# Layer 3\n",
    "model.add(LSTM(\n",
    "    units=number_units)\n",
    "    )\n",
    "model.add(Dropout(dropout_fraction))\n",
    "\n",
    "# Output layer\n",
    "model.add(Dense(1))"
   ]
  },
  {
   "cell_type": "code",
   "execution_count": 16,
   "metadata": {
    "executionInfo": {
     "elapsed": 9,
     "status": "ok",
     "timestamp": 1621896435732,
     "user": {
      "displayName": "somya panda",
      "photoUrl": "https://lh3.googleusercontent.com/a-/AOh14GgPG3HPtIinE4WxzphAj532IXowQAFLSEzeDJd-Yw=s64",
      "userId": "15898368594235905975"
     },
     "user_tz": 420
    },
    "id": "KuMbp93GBrjh"
   },
   "outputs": [],
   "source": [
    "# Compile the model\n",
    "model.compile(optimizer=\"adam\", loss=\"mean_squared_error\")"
   ]
  },
  {
   "cell_type": "code",
   "execution_count": 17,
   "metadata": {
    "colab": {
     "base_uri": "https://localhost:8080/"
    },
    "executionInfo": {
     "elapsed": 8,
     "status": "ok",
     "timestamp": 1621896435732,
     "user": {
      "displayName": "somya panda",
      "photoUrl": "https://lh3.googleusercontent.com/a-/AOh14GgPG3HPtIinE4WxzphAj532IXowQAFLSEzeDJd-Yw=s64",
      "userId": "15898368594235905975"
     },
     "user_tz": 420
    },
    "id": "1rGFFDWrBrjh",
    "outputId": "51ccc859-d2c1-482b-e95d-550e9b5df209"
   },
   "outputs": [
    {
     "name": "stdout",
     "output_type": "stream",
     "text": [
      "Model: \"sequential\"\n",
      "_________________________________________________________________\n",
      "Layer (type)                 Output Shape              Param #   \n",
      "=================================================================\n",
      "lstm (LSTM)                  (None, 1, 30)             3840      \n",
      "_________________________________________________________________\n",
      "dropout (Dropout)            (None, 1, 30)             0         \n",
      "_________________________________________________________________\n",
      "lstm_1 (LSTM)                (None, 1, 30)             7320      \n",
      "_________________________________________________________________\n",
      "dropout_1 (Dropout)          (None, 1, 30)             0         \n",
      "_________________________________________________________________\n",
      "lstm_2 (LSTM)                (None, 30)                7320      \n",
      "_________________________________________________________________\n",
      "dropout_2 (Dropout)          (None, 30)                0         \n",
      "_________________________________________________________________\n",
      "dense (Dense)                (None, 1)                 31        \n",
      "=================================================================\n",
      "Total params: 18,511\n",
      "Trainable params: 18,511\n",
      "Non-trainable params: 0\n",
      "_________________________________________________________________\n"
     ]
    }
   ],
   "source": [
    "# Summarize the model\n",
    "model.summary()"
   ]
  },
  {
   "cell_type": "code",
   "execution_count": 18,
   "metadata": {
    "colab": {
     "base_uri": "https://localhost:8080/"
    },
    "executionInfo": {
     "elapsed": 14464,
     "status": "ok",
     "timestamp": 1621896450192,
     "user": {
      "displayName": "somya panda",
      "photoUrl": "https://lh3.googleusercontent.com/a-/AOh14GgPG3HPtIinE4WxzphAj532IXowQAFLSEzeDJd-Yw=s64",
      "userId": "15898368594235905975"
     },
     "user_tz": 420
    },
    "id": "0GEYl5pJBrjh",
    "outputId": "d5336004-0c50-4f98-c15e-1e64d44ae083"
   },
   "outputs": [
    {
     "name": "stdout",
     "output_type": "stream",
     "text": [
      "Epoch 1/10\n",
      "378/378 [==============================] - 5s 3ms/step - loss: 0.1397\n",
      "Epoch 2/10\n",
      "378/378 [==============================] - 1s 3ms/step - loss: 0.0831\n",
      "Epoch 3/10\n",
      "378/378 [==============================] - 1s 3ms/step - loss: 0.0809\n",
      "Epoch 4/10\n",
      "378/378 [==============================] - 1s 3ms/step - loss: 0.0752\n",
      "Epoch 5/10\n",
      "378/378 [==============================] - 1s 3ms/step - loss: 0.0722\n",
      "Epoch 6/10\n",
      "378/378 [==============================] - 1s 3ms/step - loss: 0.0720\n",
      "Epoch 7/10\n",
      "378/378 [==============================] - 1s 3ms/step - loss: 0.0705\n",
      "Epoch 8/10\n",
      "378/378 [==============================] - 1s 3ms/step - loss: 0.0682\n",
      "Epoch 9/10\n",
      "378/378 [==============================] - 1s 3ms/step - loss: 0.0704\n",
      "Epoch 10/10\n",
      "378/378 [==============================] - 1s 3ms/step - loss: 0.0725\n"
     ]
    },
    {
     "data": {
      "text/plain": [
       "<tensorflow.python.keras.callbacks.History at 0x7f665d95a8d0>"
      ]
     },
     "execution_count": 18,
     "metadata": {
      "tags": []
     },
     "output_type": "execute_result"
    }
   ],
   "source": [
    "# Train the model\n",
    "# Use at least 10 epochs\n",
    "# Do not shuffle the data\n",
    "# Experiement with the batch size, but a smaller batch size is recommended\n",
    "model.fit(X_train, y_train, epochs=10, shuffle=False, batch_size=1, verbose=1)"
   ]
  },
  {
   "cell_type": "markdown",
   "metadata": {
    "id": "uBtKn8-OBrjh"
   },
   "source": [
    "---"
   ]
  },
  {
   "cell_type": "markdown",
   "metadata": {
    "id": "SU8lQMlwBrjh"
   },
   "source": [
    "## Model Performance\n",
    "\n",
    "In this section, we will evaluate the model using the test data. \n",
    "\n",
    "We will need to:\n",
    "1. Evaluate the model using the `X_test` and `y_test` data.\n",
    "2. Use the X_test data to make predictions\n",
    "3. Create a DataFrame of Real (y_test) vs predicted values. \n",
    "4. Plot the Real vs predicted values as a line chart"
   ]
  },
  {
   "cell_type": "code",
   "execution_count": 19,
   "metadata": {
    "colab": {
     "base_uri": "https://localhost:8080/"
    },
    "executionInfo": {
     "elapsed": 1851,
     "status": "ok",
     "timestamp": 1621896452039,
     "user": {
      "displayName": "somya panda",
      "photoUrl": "https://lh3.googleusercontent.com/a-/AOh14GgPG3HPtIinE4WxzphAj532IXowQAFLSEzeDJd-Yw=s64",
      "userId": "15898368594235905975"
     },
     "user_tz": 420
    },
    "id": "0sQM3s3MBrjh",
    "outputId": "5940d856-d947-477c-93f2-ee025e367f39"
   },
   "outputs": [
    {
     "name": "stdout",
     "output_type": "stream",
     "text": [
      "6/6 [==============================] - 1s 2ms/step - loss: 0.1117\n"
     ]
    },
    {
     "data": {
      "text/plain": [
       "0.11165456473827362"
      ]
     },
     "execution_count": 19,
     "metadata": {
      "tags": []
     },
     "output_type": "execute_result"
    }
   ],
   "source": [
    "# Evaluate the model\n",
    "model.evaluate(X_test, y_test)"
   ]
  },
  {
   "cell_type": "code",
   "execution_count": 20,
   "metadata": {
    "executionInfo": {
     "elapsed": 618,
     "status": "ok",
     "timestamp": 1621896452654,
     "user": {
      "displayName": "somya panda",
      "photoUrl": "https://lh3.googleusercontent.com/a-/AOh14GgPG3HPtIinE4WxzphAj532IXowQAFLSEzeDJd-Yw=s64",
      "userId": "15898368594235905975"
     },
     "user_tz": 420
    },
    "id": "GCZK_iHEBrjh"
   },
   "outputs": [],
   "source": [
    "# Make some predictions\n",
    "predicted = model.predict(X_test)"
   ]
  },
  {
   "cell_type": "code",
   "execution_count": 21,
   "metadata": {
    "executionInfo": {
     "elapsed": 15,
     "status": "ok",
     "timestamp": 1621896452654,
     "user": {
      "displayName": "somya panda",
      "photoUrl": "https://lh3.googleusercontent.com/a-/AOh14GgPG3HPtIinE4WxzphAj532IXowQAFLSEzeDJd-Yw=s64",
      "userId": "15898368594235905975"
     },
     "user_tz": 420
    },
    "id": "WFVYxUmlBrji"
   },
   "outputs": [],
   "source": [
    "# Recover the original prices instead of the scaled version\n",
    "predicted_prices = scaler.inverse_transform(predicted)\n",
    "real_prices = scaler.inverse_transform(y_test.reshape(-1, 1))"
   ]
  },
  {
   "cell_type": "code",
   "execution_count": 22,
   "metadata": {
    "colab": {
     "base_uri": "https://localhost:8080/",
     "height": 204
    },
    "executionInfo": {
     "elapsed": 14,
     "status": "ok",
     "timestamp": 1621896452655,
     "user": {
      "displayName": "somya panda",
      "photoUrl": "https://lh3.googleusercontent.com/a-/AOh14GgPG3HPtIinE4WxzphAj532IXowQAFLSEzeDJd-Yw=s64",
      "userId": "15898368594235905975"
     },
     "user_tz": 420
    },
    "id": "cKfUeA72Brji",
    "outputId": "83cd9d55-d636-4a63-abd2-02130e2d7d3f"
   },
   "outputs": [
    {
     "data": {
      "text/html": [
       "<div>\n",
       "<style scoped>\n",
       "    .dataframe tbody tr th:only-of-type {\n",
       "        vertical-align: middle;\n",
       "    }\n",
       "\n",
       "    .dataframe tbody tr th {\n",
       "        vertical-align: top;\n",
       "    }\n",
       "\n",
       "    .dataframe thead th {\n",
       "        text-align: right;\n",
       "    }\n",
       "</style>\n",
       "<table border=\"1\" class=\"dataframe\">\n",
       "  <thead>\n",
       "    <tr style=\"text-align: right;\">\n",
       "      <th></th>\n",
       "      <th>Real</th>\n",
       "      <th>Predicted</th>\n",
       "    </tr>\n",
       "  </thead>\n",
       "  <tbody>\n",
       "    <tr>\n",
       "      <th>2019-02-17</th>\n",
       "      <td>3670.919922</td>\n",
       "      <td>4590.715820</td>\n",
       "    </tr>\n",
       "    <tr>\n",
       "      <th>2019-02-18</th>\n",
       "      <td>3670.919922</td>\n",
       "      <td>4515.379883</td>\n",
       "    </tr>\n",
       "    <tr>\n",
       "      <th>2019-02-19</th>\n",
       "      <td>3912.570068</td>\n",
       "      <td>4401.018555</td>\n",
       "    </tr>\n",
       "    <tr>\n",
       "      <th>2019-02-20</th>\n",
       "      <td>3924.239990</td>\n",
       "      <td>5281.802734</td>\n",
       "    </tr>\n",
       "    <tr>\n",
       "      <th>2019-02-21</th>\n",
       "      <td>3974.050049</td>\n",
       "      <td>5342.830566</td>\n",
       "    </tr>\n",
       "  </tbody>\n",
       "</table>\n",
       "</div>"
      ],
      "text/plain": [
       "                   Real    Predicted\n",
       "2019-02-17  3670.919922  4590.715820\n",
       "2019-02-18  3670.919922  4515.379883\n",
       "2019-02-19  3912.570068  4401.018555\n",
       "2019-02-20  3924.239990  5281.802734\n",
       "2019-02-21  3974.050049  5342.830566"
      ]
     },
     "execution_count": 22,
     "metadata": {
      "tags": []
     },
     "output_type": "execute_result"
    }
   ],
   "source": [
    "# Create a DataFrame of Real and Predicted values\n",
    "stocks = pd.DataFrame({\n",
    "    \"Real\": real_prices.ravel(),\n",
    "    \"Predicted\": predicted_prices.ravel()\n",
    "}, index = df.index[-len(real_prices): ]) \n",
    "stocks.head()"
   ]
  },
  {
   "cell_type": "code",
   "execution_count": 23,
   "metadata": {
    "colab": {
     "base_uri": "https://localhost:8080/",
     "height": 310
    },
    "executionInfo": {
     "elapsed": 12,
     "status": "ok",
     "timestamp": 1621896452655,
     "user": {
      "displayName": "somya panda",
      "photoUrl": "https://lh3.googleusercontent.com/a-/AOh14GgPG3HPtIinE4WxzphAj532IXowQAFLSEzeDJd-Yw=s64",
      "userId": "15898368594235905975"
     },
     "user_tz": 420
    },
    "id": "98XUXeLIBrji",
    "outputId": "8e933521-942d-4a6e-8d90-a962496bc06d"
   },
   "outputs": [
    {
     "data": {
      "text/plain": [
       "<matplotlib.axes._subplots.AxesSubplot at 0x7f665abaa050>"
      ]
     },
     "execution_count": 23,
     "metadata": {
      "tags": []
     },
     "output_type": "execute_result"
    },
    {
     "data": {
      "image/png": "[encoded data removed]",
      "text/plain": [
       "<Figure size 432x288 with 1 Axes>"
      ]
     },
     "metadata": {
      "needs_background": "light",
      "tags": []
     },
     "output_type": "display_data"
    }
   ],
   "source": [
    "# Plot the real vs predicted values as a line chart\n",
    "stocks.plot(title=\"Real Vs. Predicted Prices (FNG Model)\")"
   ]
  },
  {
   "cell_type": "code",
   "execution_count": 24,
   "metadata": {
    "colab": {
     "base_uri": "https://localhost:8080/",
     "height": 347
    },
    "executionInfo": {
     "elapsed": 482,
     "status": "ok",
     "timestamp": 1621896453129,
     "user": {
      "displayName": "somya panda",
      "photoUrl": "https://lh3.googleusercontent.com/a-/AOh14GgPG3HPtIinE4WxzphAj532IXowQAFLSEzeDJd-Yw=s64",
      "userId": "15898368594235905975"
     },
     "user_tz": 420
    },
    "id": "Tis1jj04Brji",
    "outputId": "9d2fc095-7547-4e56-9cfe-18f0bfad6081"
   },
   "outputs": [
    {
     "data": {
      "image/png": "[encoded data removed]",
      "text/plain": [
       "<Figure size 720x360 with 1 Axes>"
      ]
     },
     "metadata": {
      "needs_background": "light",
      "tags": []
     },
     "output_type": "display_data"
    }
   ],
   "source": [
    "# Save the real vs predicted values as .png\n",
    "stocks.plot(figsize=(10,5), title=\"Real Vs. Predicted Bitcoin Closing Prices (FNG Model)\").get_figure().savefig('real_vs_predictedCP(FNG Model).png')"
   ]
  },
  {
   "cell_type": "markdown",
   "metadata": {
    "id": "euv3QfVk4eli"
   },
   "source": [
    "## Conclusion:\n",
    "\n",
    "The LSTM RNN model has 0.1117 loss.\n",
    "\n",
    "The window size that works better is 1."
   ]
  }
 ],
 "metadata": {
  "colab": {
   "collapsed_sections": [],
   "name": "lstm_stock_predictor_fng.ipynb",
   "provenance": [],
   "toc_visible": true
  },
  "file_extension": ".py",
  "kernelspec": {
   "display_name": "Python 3",
   "language": "python",
   "name": "python3"
  },
  "language_info": {
   "codemirror_mode": {
    "name": "ipython",
    "version": 3
   },
   "file_extension": ".py",
   "mimetype": "text/x-python",
   "name": "python",
   "nbconvert_exporter": "python",
   "pygments_lexer": "ipython3",
   "version": "3.7.7"
  },
  "mimetype": "text/x-python",
  "name": "python",
  "npconvert_exporter": "python",
  "pygments_lexer": "ipython3",
  "version": 3
 },
 "nbformat": 4,
 "nbformat_minor": 4
}
